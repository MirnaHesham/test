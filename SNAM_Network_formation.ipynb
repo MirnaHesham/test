{
  "nbformat": 4,
  "nbformat_minor": 0,
  "metadata": {
    "colab": {
      "name": "Untitled0.ipynb",
      "provenance": [],
      "collapsed_sections": [],
      "toc_visible": true,
      "include_colab_link": true
    },
    "kernelspec": {
      "name": "python3",
      "display_name": "Python 3"
    }
  },
  "cells": [
    {
      "cell_type": "markdown",
      "metadata": {
        "id": "view-in-github",
        "colab_type": "text"
      },
      "source": [
        "<a href=\"https://colab.research.google.com/github/MirnaHesham/test/blob/main/SNAM_Network_formation.ipynb\" target=\"_parent\"><img src=\"https://colab.research.google.com/assets/colab-badge.svg\" alt=\"Open In Colab\"/></a>"
      ]
    },
    {
      "cell_type": "code",
      "metadata": {
        "id": "hef6DeDV6Pek",
        "outputId": "22c3907a-684e-4bf1-95a9-90470b05bd34",
        "colab": {
          "base_uri": "https://localhost:8080/"
        }
      },
      "source": [
        "import numpy as np\n",
        "import pandas as pd\n",
        "import scipy\n",
        "import statsmodels.api as sm\n",
        "import matplotlib.pyplot as plt\n",
        "import seaborn as sns\n",
        "import sklearn\n",
        "import random\n"
      ],
      "execution_count": 24,
      "outputs": [
        {
          "output_type": "stream",
          "text": [
            "/usr/local/lib/python3.6/dist-packages/statsmodels/tools/_testing.py:19: FutureWarning: pandas.util.testing is deprecated. Use the functions in the public API at pandas.testing instead.\n",
            "  import pandas.util.testing as tm\n"
          ],
          "name": "stderr"
        }
      ]
    },
    {
      "cell_type": "code",
      "metadata": {
        "id": "Xm4mg13L8cyr"
      },
      "source": [
        "f=open(\"Nodes.txt\",'r')\n",
        "lines=f.readlines()\n",
        "result=[]\n",
        "for x in lines:\n",
        "    result.append(x)\n",
        "f.close()\n"
      ],
      "execution_count": null,
      "outputs": []
    },
    {
      "cell_type": "code",
      "metadata": {
        "id": "5P43238kcDDd"
      },
      "source": [
        "for x in result:\n",
        "  print(x)"
      ],
      "execution_count": null,
      "outputs": []
    },
    {
      "cell_type": "code",
      "metadata": {
        "id": "ULx_Gzuybnn6"
      },
      "source": [
        "i=0\n",
        "currentRes=\"\"\n",
        "Nodes=[]\n",
        "for x in result:\n",
        " Nodes.append( x.strip())\n"
      ],
      "execution_count": null,
      "outputs": []
    },
    {
      "cell_type": "code",
      "metadata": {
        "id": "_IuVE0NfcOvK"
      },
      "source": [
        "f=open(\"counted.txt\",'r')\n",
        "lines=f.readlines()\n",
        "Weights=[]\n",
        "for x in lines:\n",
        "   Weights.append(x.split(','))\n",
        "f.close()"
      ],
      "execution_count": null,
      "outputs": []
    },
    {
      "cell_type": "code",
      "metadata": {
        "id": "iwrRSOuHiwOn"
      },
      "source": [
        "#reading rewired network \n",
        "f=open(\"Rewired.txt\",'r')\n",
        "lines=f.readlines()\n",
        "Rewired=[]\n",
        "for x in lines:\n",
        "   Rewired.append(x.split(','))\n",
        "f.close()"
      ],
      "execution_count": 6,
      "outputs": []
    },
    {
      "cell_type": "code",
      "metadata": {
        "id": "58GjUTd0i20b"
      },
      "source": [
        "RewiredEdges=[]\n",
        "skip=0\n",
        "\n",
        "for x in Rewired:\n",
        "  skip=0\n",
        "  for i in x:\n",
        "    if skip !=0 and i !=\"\\n\":\n",
        "      n = random.randint(1,10)\n",
        "      RewiredEdges.append(x[0]+\",\"+ i+\",\"+str(n))\n",
        "    skip=skip+1\n"
      ],
      "execution_count": 50,
      "outputs": []
    },
    {
      "cell_type": "code",
      "metadata": {
        "id": "WBsn30ognaAS"
      },
      "source": [
        "fileWired=open(\"RewiredEdges.txt\",'w')\n",
        "for x in RewiredEdges:\n",
        "   fileWired.write(x)\n",
        "   fileWired.write(\"\\n\")\n",
        "fileWired.close()"
      ],
      "execution_count": 51,
      "outputs": []
    },
    {
      "cell_type": "code",
      "metadata": {
        "id": "u-_uB5ofrX5k"
      },
      "source": [
        "RewiredEdgesSplited=[]\n",
        "for x in RewiredEdges:\n",
        "  RewiredEdgesSplited.append(x.split(\",\"))"
      ],
      "execution_count": null,
      "outputs": []
    },
    {
      "cell_type": "code",
      "metadata": {
        "id": "lsVZNVoNsBLN"
      },
      "source": [
        "RewiredSource=[]\n",
        "RewiredSourceTarget=[]\n",
        "currentEdge=[]\n",
        "\n",
        "for x in RewiredEdgesSplited:\n",
        "  RewiredSource.append(x[0])\n",
        "  RewiredSourceTarget.append(x[1])\n",
        "  currentEdge.append(x[2].strip())"
      ],
      "execution_count": 60,
      "outputs": []
    },
    {
      "cell_type": "code",
      "metadata": {
        "id": "MXy0OMorqfww"
      },
      "source": [
        "# importing pandas as pd  \n",
        "import pandas as pd  \n",
        "  \n",
        "# dictionary of lists  \n",
        "dict = {'Source': RewiredSource, 'Target': RewiredSourceTarget, 'weight':currentEdge }  \n",
        "     \n",
        "df = pd.DataFrame(dict) \n",
        "  \n",
        "# saving the dataframe \n",
        "df.to_csv('Rewired_Network.csv') "
      ],
      "execution_count": 61,
      "outputs": []
    },
    {
      "cell_type": "code",
      "metadata": {
        "id": "xQKSe7r3w6cE"
      },
      "source": [
        "#reading rewired network \n",
        "f=open(\"RandomNet.txt\",'r')\n",
        "lines=f.readlines()\n",
        "RandomNET=[]\n",
        "for x in lines:\n",
        "   RandomNET.append(x.split(','))\n",
        "f.close()\n",
        "\n",
        "RandomEdges=[]\n",
        "skip=0\n",
        "\n",
        "for x in RandomNET:\n",
        "  skip=0\n",
        "  for i in x:\n",
        "    if skip !=0 and i !=\"\\n\":\n",
        "      n = random.randint(1,10)\n",
        "      RandomEdges.append(x[0]+\",\"+ i+\",\"+str(n))\n",
        "    skip=skip+1\n",
        "\n",
        "fileRandom=open(\"RandomEdges.txt\",'w')\n",
        "for x in RandomEdges:\n",
        "   fileRandom.write(str(x))\n",
        "   fileRandom.write(\"\\n\")\n",
        "fileRandom.close()"
      ],
      "execution_count": null,
      "outputs": []
    },
    {
      "cell_type": "code",
      "metadata": {
        "id": "lRiWg2yU0vCv"
      },
      "source": [
        "RandomEdgesSplited=[]\n",
        "for x in RandomEdges:\n",
        "  RandomEdgesSplited.append(x.split(\",\"))\n",
        "RandomSource=[]\n",
        "RandomSourceTarget=[]\n",
        "RandomcurrentEdge=[]\n",
        "for x in RandomEdgesSplited:\n",
        "  RandomSource.append(x[0])\n",
        "  RandomSourceTarget.append(x[1])\n",
        "  RandomcurrentEdge.append(x[2].strip())\n"
      ],
      "execution_count": 76,
      "outputs": []
    },
    {
      "cell_type": "code",
      "metadata": {
        "id": "gsSmJLZF1M8h"
      },
      "source": [
        "\n",
        "# importing pandas as pd  \n",
        "import pandas as pd  \n",
        "  \n",
        "# dictionary of lists  \n",
        "dict = {'Source': RandomSource, 'Target': RandomSourceTarget, 'Weight':RandomcurrentEdge}  \n",
        "     \n",
        "df = pd.DataFrame(dict) \n",
        "  \n",
        "# saving the dataframe \n",
        "df.to_csv('Random_Network.csv') \n"
      ],
      "execution_count": 77,
      "outputs": []
    },
    {
      "cell_type": "code",
      "metadata": {
        "id": "DRZZlUph6tBH"
      },
      "source": [
        "source=[]\n",
        "target=[]\n",
        "Edge=[]\n",
        "for x in Weights:\n",
        "  source.append(x[0])\n",
        "  target.append(x[1])\n",
        "  Edge.append(x[2].strip())\n"
      ],
      "execution_count": null,
      "outputs": []
    },
    {
      "cell_type": "code",
      "metadata": {
        "id": "xVd4pjwy7L33"
      },
      "source": [
        "# importing pandas as pd  \n",
        "import pandas as pd  \n",
        "    \n",
        "# dictionary of lists  \n",
        "dict = {'Source': source, 'Target': target, 'weight':Edge }  \n",
        "     \n",
        "df = pd.DataFrame(dict) \n",
        "  \n",
        "# saving the dataframe \n",
        "df.to_csv('Network.csv') "
      ],
      "execution_count": null,
      "outputs": []
    },
    {
      "cell_type": "code",
      "metadata": {
        "id": "5KFT_taDek6X"
      },
      "source": [
        "f=open(\"OldNetwork.txt\",'r')\n",
        "lines=f.readlines()\n",
        "Old=[]\n",
        "for x in lines:\n",
        "   Old.append(x.split(':'))\n",
        "f.close()"
      ],
      "execution_count": null,
      "outputs": []
    },
    {
      "cell_type": "code",
      "metadata": {
        "id": "ja3Ufy3qhKHX"
      },
      "source": [
        "neihbors=[]\n",
        "for x in Old:\n",
        "    neihbors.append(x[1].split(','));\n"
      ],
      "execution_count": null,
      "outputs": []
    },
    {
      "cell_type": "code",
      "metadata": {
        "id": "BjUkdQwwhkB0"
      },
      "source": [
        "for x in neihbors:\n",
        "  print(\"-->\",x)"
      ],
      "execution_count": null,
      "outputs": []
    },
    {
      "cell_type": "code",
      "metadata": {
        "id": "ekdrdH4RwZ0V"
      },
      "source": [
        "splitedNeb=[]\n",
        "for x in neihbors:\n",
        "   print(x[0].split(','));"
      ],
      "execution_count": null,
      "outputs": []
    },
    {
      "cell_type": "code",
      "metadata": {
        "id": "4rCZ9EiC6I34"
      },
      "source": [
        "f=open(\"Degrees.txt\",'r')\n",
        "lines=f.readlines()\n",
        "Degree=[]\n",
        "for x in lines:\n",
        "   Degree.append(x.split(':'))\n",
        "f.close()\n",
        "\n",
        "Degree\n"
      ],
      "execution_count": null,
      "outputs": []
    },
    {
      "cell_type": "code",
      "metadata": {
        "id": "VfSwN_-u6yWJ"
      },
      "source": [
        "authors=[]\n",
        "weights=[]\n",
        "for x in Degree:\n",
        "  print(x[0], x[1])\n",
        "  authors.append(x[0])\n",
        "  weights.append(x[1])\n",
        "\n",
        "weights\n",
        "sosa=\"\"\n",
        "wo=[]\n",
        "\n",
        "for x in weights:\n",
        "  wo.append(x.rstrip())\n"
      ],
      "execution_count": null,
      "outputs": []
    },
    {
      "cell_type": "code",
      "metadata": {
        "id": "OGZjgtM8CAU-"
      },
      "source": [
        "for x in Weights:\n",
        "  for f in x:\n",
        "    print(f)"
      ],
      "execution_count": null,
      "outputs": []
    },
    {
      "cell_type": "code",
      "metadata": {
        "id": "WOJJgFKUCycd"
      },
      "source": [
        "fily = open(\"Ndeef2.txt\", \"w\")\n",
        "i=0\n",
        "for x in neihbors:\n",
        "  print(authors[i], \" has Degree :\", wo[i])\n",
        "  fily.write(authors[i])\n",
        "  fily.write(\" \")\n",
        "  i=i+1\n",
        "  for f in x:\n",
        "    coca=f.strip()\n",
        "    print(coca)\n",
        "    fily.write(coca+\" \")\n",
        "  fily.write(\"\\n\")\n",
        "fily.close()"
      ],
      "execution_count": null,
      "outputs": []
    },
    {
      "cell_type": "code",
      "metadata": {
        "id": "VRJF8r1okAxU"
      },
      "source": [
        "f=open(\"Ndeef2.txt\",'r')\n",
        "lines=f.readlines()\n",
        "Ndeef2=[]\n",
        "for x in lines:\n",
        "   Ndeef2.append(x.split(' '))\n",
        "f.close()"
      ],
      "execution_count": null,
      "outputs": []
    },
    {
      "cell_type": "code",
      "metadata": {
        "id": "abPOa7YqTitj"
      },
      "source": [
        "\n",
        "for x in neihbors:\n",
        "  for f in x:\n",
        "    print(f)\n",
        "  "
      ],
      "execution_count": null,
      "outputs": []
    },
    {
      "cell_type": "code",
      "metadata": {
        "id": "7U-S4p59eFhq"
      },
      "source": [
        "print (neihbors[3][1])\n",
        "print (neihbors[3][0].strip())\n",
        "\n",
        "print (Nodes.index(neihbors[2][0].strip()))"
      ],
      "execution_count": null,
      "outputs": []
    },
    {
      "cell_type": "code",
      "metadata": {
        "id": "DylWFButkJ-q"
      },
      "source": [
        "Ndeef2"
      ],
      "execution_count": null,
      "outputs": []
    },
    {
      "cell_type": "code",
      "metadata": {
        "id": "fl1smdj7ki0s"
      },
      "source": [
        "for x in Ndeef2:\n",
        "  i=0\n",
        "  for f in x:\n",
        "    \n",
        "      print(f)\n",
        " "
      ],
      "execution_count": null,
      "outputs": []
    },
    {
      "cell_type": "code",
      "metadata": {
        "id": "r7-BUstYn72Q"
      },
      "source": [
        "index=0\n",
        "for i in neihbors:\n",
        "  for w in i:\n",
        "    index=0\n",
        "    for x in authors:\n",
        "      if w==x:\n",
        "        print(index)\n",
        "      index=index+1"
      ],
      "execution_count": null,
      "outputs": []
    },
    {
      "cell_type": "code",
      "metadata": {
        "id": "QoGG5s7oFsnk"
      },
      "source": [
        "f=open(\"Indexes.txt\",'w')\n",
        "for x in neihbors:\n",
        "  for i in x:\n",
        "    index=0\n",
        "    for w in authors:\n",
        "      if w==i.strip():\n",
        "        print(index)\n",
        "        f.write(str(index)+\" \")\n",
        "      index=index+1\n",
        "  f.write(\"\\n\")    \n",
        "\n",
        "f.close()"
      ],
      "execution_count": null,
      "outputs": []
    },
    {
      "cell_type": "code",
      "metadata": {
        "id": "OJDybFvRIT5H"
      },
      "source": [
        "f=open(\"Indexes.txt\",'r')\n",
        "lines=f.readlines()\n",
        "Indexes=[]\n",
        "for x in lines:\n",
        "   Indexes.append(x.split(' '))\n",
        "f.close()"
      ],
      "execution_count": null,
      "outputs": []
    },
    {
      "cell_type": "code",
      "metadata": {
        "id": "fdibWQygMJ4o"
      },
      "source": [
        "numNodes=[]\n",
        "for i in range(5852):\n",
        "  numNodes.append(i)\n",
        "numNodes "
      ],
      "execution_count": null,
      "outputs": []
    },
    {
      "cell_type": "code",
      "metadata": {
        "id": "7lD8OuXIylms"
      },
      "source": [
        "# importing pandas as pd  \n",
        "import pandas as pd  \n",
        "   \n",
        "   \n",
        "# dictionary of lists  \n",
        "dict = {'Nodes': authors, 'degree': wo, 'neihbors': neihbors, 'Indexes':Indexes}  \n",
        "     \n",
        "df = pd.DataFrame(dict) \n",
        "  \n",
        "# saving the dataframe \n",
        "df.to_csv('file1.csv') "
      ],
      "execution_count": null,
      "outputs": []
    },
    {
      "cell_type": "code",
      "metadata": {
        "id": "j-ZBQo7yZVPm",
        "outputId": "c04ecb9d-0251-40dd-96de-29abdda8418d",
        "colab": {
          "base_uri": "https://localhost:8080/",
          "height": 284
        }
      },
      "source": [
        "wo.sort();\n",
        "plt.scatter(numNodes,wo)\n",
        "plt.xlabel(\"Name\", fontsize = 15)\n",
        "plt.ylabel(\"Degrees\", fontsize = 15)\n",
        "plt.yticks(np.arange(0, 50, step=5))\n",
        "x = np.arange(0, 2*(np.pi), 0.1) \n",
        "plt.show()"
      ],
      "execution_count": null,
      "outputs": [
        {
          "output_type": "display_data",
          "data": {
            "image/png": "[encoded data removed]",
            "text/plain": [
              "<Figure size 432x288 with 1 Axes>"
            ]
          },
          "metadata": {
            "tags": [],
            "needs_background": "light"
          }
        }
      ]
    },
    {
      "cell_type": "code",
      "metadata": {
        "id": "SiVziq_kjRMZ"
      },
      "source": [
        "f=open(\"RandomDegrees.txt\",'r')\n",
        "lines=f.readlines()\n",
        "randomDeg=[]\n",
        "for x in lines:\n",
        "   randomDeg.append(x)\n",
        "f.close()\n",
        "\n",
        "randomDegree=[]\n",
        "\n",
        "for x in randomDeg:\n",
        "  randomDegree.append(x.rstrip())\n"
      ],
      "execution_count": null,
      "outputs": []
    },
    {
      "cell_type": "code",
      "metadata": {
        "id": "tWn0rBp1ceR1",
        "outputId": "47b0c4b4-e6ee-45f3-9682-d83ece34cd8b",
        "colab": {
          "base_uri": "https://localhost:8080/"
        }
      },
      "source": [
        "elements_count = {}\n",
        "degrees = []\n",
        "nodes = []\n",
        "for element in wo:\n",
        "   if element in elements_count:\n",
        "      \n",
        "      elements_count[element] += 1\n",
        "   else:\n",
        "      \n",
        "      elements_count[element] = 1\n",
        "\n",
        "for key, value in elements_count.items():\n",
        "  degrees.append(value)\n",
        "  nodes.append(key)\n",
        "print(degrees)"
      ],
      "execution_count": null,
      "outputs": [
        {
          "output_type": "stream",
          "text": [
            "[359, 1090, 108, 92, 90, 78, 45, 58, 38, 33, 36, 32, 1063, 27, 20, 15, 18, 7, 11, 5, 7, 7, 6, 800, 5, 31, 5, 2, 5, 3, 3, 2, 1, 3, 521, 2, 1, 3, 3, 2, 2, 369, 1, 1, 1, 272, 1, 231, 1, 195, 140, 1]\n"
          ],
          "name": "stdout"
        }
      ]
    },
    {
      "cell_type": "code",
      "metadata": {
        "id": "UebQn8OQi6SG",
        "outputId": "ee28f131-9faf-4dc3-c290-32142e1f9a8f",
        "colab": {
          "base_uri": "https://localhost:8080/"
        }
      },
      "source": [
        "randomDegree.sort();\n",
        "elements_count2 = {}\n",
        "degrees2 = []\n",
        "nodes2 = []\n",
        "for element in randomDegree:\n",
        "   if element in elements_count2:\n",
        "      elements_count2[element] += 1\n",
        "   else:   \n",
        "      elements_count2[element] = 1\n",
        "\n",
        "for key, value in elements_count2.items():\n",
        "  degrees2.append(value)\n",
        "  nodes2.append(key)\n",
        "print(degrees2)"
      ],
      "execution_count": null,
      "outputs": [
        {
          "output_type": "stream",
          "text": [
            "[360, 1090, 108, 92, 90, 78, 45, 58, 38, 33, 36, 32, 1063, 27, 20, 15, 18, 7, 11, 5, 7, 7, 6, 800, 5, 31, 5, 2, 5, 3, 3, 2, 1, 3, 521, 2, 1, 3, 3, 2, 2, 369, 1, 1, 1, 272, 1, 231, 1, 195, 139, 1]\n"
          ],
          "name": "stdout"
        }
      ]
    },
    {
      "cell_type": "code",
      "metadata": {
        "id": "nmlafp1HdxcQ"
      },
      "source": [
        "plt.scatter(nodes,degrees)\n",
        "plt.xlabel(\"Name\", fontsize = 15)\n",
        "plt.ylabel(\"Degrees\", fontsize = 15)\n",
        "plt.yticks(np.arange(0, 1600, step=200))\n",
        "plt.xticks(np.arange(0, 50, step=2))\n",
        "x = np.arange(0, 2*(np.pi), 0.1) \n",
        "plt.show()"
      ],
      "execution_count": null,
      "outputs": []
    },
    {
      "cell_type": "code",
      "metadata": {
        "id": "m01jEb7xiLh6"
      },
      "source": [
        "plt.scatter(nodes2,degrees2)\n",
        "plt.xlabel(\"Name\", fontsize = 15)\n",
        "plt.ylabel(\"Degrees\", fontsize = 15)\n",
        "plt.yticks(np.arange(0, 1600, step=200))\n",
        "plt.xticks(np.arange(0, 50, step=2))\n",
        "x = np.arange(0, 2*(np.pi), 0.1) \n",
        "plt.show()"
      ],
      "execution_count": null,
      "outputs": []
    },
    {
      "cell_type": "code",
      "metadata": {
        "id": "DfFlL7jbvbEc"
      },
      "source": [
        "community=[]\n",
        "for x in Indexes:\n",
        "  for i in x:\n",
        "    community.append(i)"
      ],
      "execution_count": null,
      "outputs": []
    },
    {
      "cell_type": "code",
      "metadata": {
        "id": "1KHMooD0x8O9"
      },
      "source": [
        ""
      ],
      "execution_count": null,
      "outputs": []
    }
  ]
}